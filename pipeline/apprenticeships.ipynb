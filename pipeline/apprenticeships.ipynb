{
 "cells": [
  {
   "cell_type": "code",
   "execution_count": 1,
   "metadata": {},
   "outputs": [],
   "source": [
    "import os\n",
    "import requests\n",
    "import zipfile\n",
    "from bs4 import BeautifulSoup\n",
    "import tempfile\n",
    "import glob\n",
    "import pandas as pd"
   ]
  },
  {
   "cell_type": "code",
   "execution_count": 2,
   "metadata": {},
   "outputs": [],
   "source": [
    "page = 'https://explore-education-statistics.service.gov.uk/find-statistics/apprenticeships-and-traineeships/2022-23'"
   ]
  },
  {
   "cell_type": "code",
   "execution_count": 3,
   "metadata": {},
   "outputs": [
    {
     "data": {
      "text/plain": [
       "'https://content.explore-education-statistics.service.gov.uk/api/releases/576fdd7a-e24f-4e71-9c84-050f23ac4a23/files'"
      ]
     },
     "execution_count": 3,
     "metadata": {},
     "output_type": "execute_result"
    }
   ],
   "source": [
    "r = requests.get(page)\n",
    "soup = BeautifulSoup(r.text)\n",
    "zip_link = soup.find('a', string='Download all data (zip)')['href']\n",
    "zip_link"
   ]
  },
  {
   "cell_type": "code",
   "execution_count": 4,
   "metadata": {},
   "outputs": [],
   "source": [
    "local_zip = os.path.abspath('../working/data.zip')"
   ]
  },
  {
   "cell_type": "code",
   "execution_count": 5,
   "metadata": {},
   "outputs": [],
   "source": [
    "if not os.path.exists(local_zip):\n",
    "    r = requests.get(zip_link)\n",
    "    with open(local_zip, 'wb') as f:\n",
    "        f.write(r.content)"
   ]
  },
  {
   "cell_type": "code",
   "execution_count": 6,
   "metadata": {},
   "outputs": [
    {
     "name": "stdout",
     "output_type": "stream",
     "text": [
      "data-guidance\n",
      "data-guidance/data-guidance.txt\n",
      "data\n",
      "data/app-pubsec-summary-2023.csv\n",
      "data/app-tship-demographics-full-year-202122-q4.csv\n",
      "data/app-redundancies-202223-jul.csv\n",
      "data/app-latest-summary-full-year-202223-q3.csv\n",
      "data/app-starts-since-202223-q3.csv\n",
      "data/apps_narts_learner_detailed.csv\n",
      "data/app-learner-detailed-202223-q3.csv\n",
      "data/apps-geography-population-2223-q3.csv\n",
      "data/app-learner-deprivation-part-202223-q3.csv\n",
      "data/app-tship-start-comp-conv-2223-q2.csv\n",
      "data/app-tship-demographics-202223-q3.csv\n",
      "data/apps_narts_subject_and_level_detailed.csv\n",
      "data/app-duration-staylength-emplength-202122-q4.csv\n",
      "data/app-vacancies-adverts-2023-jul-20230710.csv\n",
      "data/apps_narts_deprivation.csv\n",
      "data/apps_narts_provider_level_fwk_std.csv\n",
      "data/app-tship-provider-202223-q3.csv\n",
      "data/app-learner-lldd-202223-q3.csv\n",
      "data/app-learner-deprivation-starts-202223-q3.csv\n",
      "data/apps_narts_provider_type.csv\n",
      "data/app-geography-detailed-202223-q3.csv\n",
      "data/app-latest-summary-202223-q3.csv\n",
      "data/data-for-graphs-2122-20230630.csv\n",
      "data/app-subject-standards-202223-q3.csv\n",
      "data/app-geography-pcon-lad-202223-q3.csv\n",
      "data/app-subject-summary-202223-q3.csv\n",
      "data/traineeships_narts_headline.csv\n",
      "data/app-monthly-starts-202223-oct.csv\n",
      "data/app-subject-levy-202223-q3.csv\n",
      "data/app-subject-detailed-202223-q3.csv\n",
      "data/app-geog-lep-eda-202223-q3.csv\n",
      "data/app-learner-summary-202223-q3.csv\n",
      "data/app-service-commitments-202223-jul.csv\n",
      "data/traineeships_narts_provider.csv\n",
      "data/app-tship-regional-202223-q3.csv\n",
      "data/app-provider-starts-202223-q3.csv\n",
      "data/apps_narts_subject_demographics.csv\n",
      "data/app-subject-demographics-202223-q3.csv\n",
      "supporting-files\n",
      "supporting-files/underlying-data-apps-achievements-202223-q3.zip\n",
      "supporting-files/apps_infographic-202223-jul.pdf\n",
      "supporting-files/underlying-data-apps-vacancies-2023-jul.zip\n",
      "supporting-files/underlying-data-apps-participation-202223-q3.zip\n",
      "supporting-files/apps_narts_provider_level_fwk_std_with_provider type.zip\n",
      "supporting-files/Apprenticeship Achievement Rates - Transparency Redactions.pdf\n",
      "supporting-files/traineeship-incentive-payments-by-june-2023.csv\n",
      "supporting-files/underlying-data-apps-monthly-starts-202223-oct.csv\n",
      "supporting-files/underlying-app-pubsec-organisations.csv\n",
      "supporting-files/underlying-data-apps-demographics-202223-q3.csv\n",
      "supporting-files/underlying-data-apps-starts-202223-q3.zip\n",
      "supporting-files/underlying-csv-metadata-apprenticeships-october-2023.pdf\n",
      "supporting-files/underlying-data-apps-transfers-202223-q3.csv\n",
      "supporting-files/New Release Layout - Names Lookup.csv\n"
     ]
    }
   ],
   "source": [
    "with tempfile.TemporaryDirectory() as tmp:\n",
    "    current_dir = os.getcwd()\n",
    "    try:\n",
    "        os.chdir(tmp)\n",
    "        with zipfile.ZipFile(local_zip, 'r') as zip:\n",
    "            zip.extractall('.')\n",
    "        print('\\n'.join(glob.glob('**', recursive=True)))\n",
    "        data = pd.read_csv('data/app-starts-since-202223-q3.csv')\n",
    "        # data = pd.read_csv(f'{dataset}.txt', sep='\\t',\n",
    "                          #  header=None, names=fields)\n",
    "    finally:\n",
    "        os.chdir(current_dir)"
   ]
  },
  {
   "cell_type": "code",
   "execution_count": 7,
   "metadata": {},
   "outputs": [],
   "source": [
    "filtered = (\n",
    "  data\n",
    "    .loc[data.geographic_level == 'Local authority', :]\n",
    "    .drop(columns=['pcon_code', 'pcon_name', 'old_la_code', 'geographic_level'])\n",
    "    .rename(columns={'new_la_code': 'geo_code', 'la_name': 'geo_name'})\n",
    ")\n",
    "filtered['date'] = filtered.time_period.astype(str).str.slice(0,4).apply(pd.to_datetime) + pd.DateOffset(months=8, years=1, days=-1)\n",
    "export = (\n",
    "  filtered\n",
    "    .loc[:, ['date', 'geo_code', 'starts']]\n",
    "    .melt(id_vars=['geo_code', 'date'])\n",
    ")"
   ]
  },
  {
   "cell_type": "code",
   "execution_count": 8,
   "metadata": {},
   "outputs": [],
   "source": [
    "export.to_parquet('../static/data.parquet')\n",
    "export.to_parquet('../static/data', partition_cols=['geo_code'])"
   ]
  },
  {
   "cell_type": "code",
   "execution_count": 9,
   "metadata": {},
   "outputs": [
    {
     "data": {
      "text/plain": [
       "geo_code            object\n",
       "date        datetime64[ns]\n",
       "variable            object\n",
       "value                int64\n",
       "dtype: object"
      ]
     },
     "execution_count": 9,
     "metadata": {},
     "output_type": "execute_result"
    }
   ],
   "source": [
    "export.dtypes"
   ]
  },
  {
   "cell_type": "code",
   "execution_count": null,
   "metadata": {},
   "outputs": [],
   "source": []
  }
 ],
 "metadata": {
  "kernelspec": {
   "display_name": "social-value-data-explorer-RFFikNqF",
   "language": "python",
   "name": "python3"
  },
  "language_info": {
   "codemirror_mode": {
    "name": "ipython",
    "version": 3
   },
   "file_extension": ".py",
   "mimetype": "text/x-python",
   "name": "python",
   "nbconvert_exporter": "python",
   "pygments_lexer": "ipython3",
   "version": "3.10.12"
  },
  "orig_nbformat": 4
 },
 "nbformat": 4,
 "nbformat_minor": 2
}
